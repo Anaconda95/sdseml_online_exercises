{
 "cells": [
  {
   "cell_type": "markdown",
   "metadata": {},
   "source": [
    "**Exercise 5 warmup: Class that mimics a clock**\n",
    "\n",
    "Implement a class that mimics a $n$-hour clock. Assume that all clocks start at hour 0. Implement a `.tick()` method that ticks the clock forward one hour. The clock should also store the number of cycles it has run through since initialization. Implement the `__eq__` method to check if the same total amount of hours have elapsed on two different clocks."
   ]
  },
  {
   "cell_type": "code",
   "execution_count": null,
   "metadata": {},
   "outputs": [],
   "source": [
    "class Clock:\n",
    "    def __init__(self, hour = 0, n = 24):\n",
    "        self.hr = hour\n",
    "        self.n = n\n",
    "    \n",
    "    def __str__(self):\n",
    "        return f\"Number of hours elapsed: {self.hr}\"\n",
    "    \n",
    "    def __eq__(self, other):\n",
    "        if isinstance(other, Clock):\n",
    "            if other.hr == self.hr:\n",
    "                return True\n",
    "            \n",
    "            else:\n",
    "                return False\n",
    "    \n",
    "    def tick(self):\n",
    "        if self.hr == self.n:\n",
    "            self.hr = 0 \n",
    "        \n",
    "        elif self.hr < self.n:\n",
    "            self.hr += 1  \n",
    "    \n",
    "        return self.hr"
   ]
  },
  {
   "cell_type": "markdown",
   "metadata": {},
   "source": [
    "**Check to see if class works:**"
   ]
  },
  {
   "cell_type": "code",
   "execution_count": null,
   "metadata": {},
   "outputs": [],
   "source": [
    "clock = Clock()"
   ]
  },
  {
   "cell_type": "code",
   "execution_count": null,
   "metadata": {},
   "outputs": [],
   "source": [
    "clock.tick()"
   ]
  },
  {
   "cell_type": "code",
   "execution_count": null,
   "metadata": {},
   "outputs": [],
   "source": [
    "clock_other = Clock()"
   ]
  },
  {
   "cell_type": "code",
   "execution_count": null,
   "metadata": {},
   "outputs": [],
   "source": [
    "clock_other.tick()"
   ]
  },
  {
   "cell_type": "code",
   "execution_count": null,
   "metadata": {},
   "outputs": [],
   "source": [
    "print(clock.__str__())\n",
    "print(clock_other.__str__())"
   ]
  },
  {
   "cell_type": "code",
   "execution_count": null,
   "metadata": {},
   "outputs": [],
   "source": [
    "clock.__eq__(clock_other)"
   ]
  }
 ],
 "metadata": {
  "kernelspec": {
   "display_name": "Python 3",
   "language": "python",
   "name": "python3"
  },
  "language_info": {
   "codemirror_mode": {
    "name": "ipython",
    "version": 3
   },
   "file_extension": ".py",
   "mimetype": "text/x-python",
   "name": "python",
   "nbconvert_exporter": "python",
   "pygments_lexer": "ipython3",
   "version": "3.7.4"
  }
 },
 "nbformat": 4,
 "nbformat_minor": 2
}
